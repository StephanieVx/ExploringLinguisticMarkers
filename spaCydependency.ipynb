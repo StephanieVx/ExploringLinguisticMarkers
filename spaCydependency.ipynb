{
 "cells": [
  {
   "cell_type": "code",
   "execution_count": null,
   "metadata": {},
   "outputs": [],
   "source": [
    "import numpy as np\n",
    "import matplotlib.pyplot as plt\n",
    "import pandas as pd\n",
    "import seaborn as sns\n",
    "import sklearn\n",
    "import spacy\n",
    "from spacy import displacy\n",
    "nlp = spacy.load('nl_core_news_lg')"
   ]
  },
  {
   "cell_type": "code",
   "execution_count": null,
   "metadata": {},
   "outputs": [],
   "source": [
    "from collections import Counter\n",
    "from nltk import word_tokenize \n",
    "from nltk.util import ngrams\n",
    "from nltk.stem import WordNetLemmatizer\n",
    "from nltk.corpus import stopwords"
   ]
  },
  {
   "cell_type": "code",
   "execution_count": null,
   "metadata": {},
   "outputs": [],
   "source": [
    "g = open(r'H:\\LIWCproject\\MD/N032017.txt', 'r')"
   ]
  },
  {
   "cell_type": "code",
   "execution_count": null,
   "metadata": {},
   "outputs": [],
   "source": [
    "N03 = g.read()"
   ]
  },
  {
   "cell_type": "code",
   "execution_count": null,
   "metadata": {},
   "outputs": [],
   "source": [
    "doc = nlp(N03)\n",
    "df = pd.DataFrame()\n",
    "df['lemma'] = [token.lemma_ for token in doc]\n",
    "df['headlemma'] = [token.head.lemma_ for token in doc]\n",
    "df['dep'] = [token.dep_ for token in doc]"
   ]
  },
  {
   "cell_type": "code",
   "execution_count": null,
   "metadata": {},
   "outputs": [],
   "source": [
    "#remove punctuation marks\n",
    "df = df.dropna()\n",
    "df = df[df.lemma != '\"']\n",
    "df = df[df.lemma != '\\n']\n",
    "df = df[df.lemma != '1\"/']\n",
    "df = df[df.lemma != '..']\n",
    "df = df[df.lemma != '.']\n",
    "df = df[df.lemma != ',']\n",
    "df = df[df.headlemma != ']']\n",
    "df = df[df.headlemma != ',']\n",
    "df = df[df.headlemma != '..']\n",
    "df = df[df.headlemma != '.']\n",
    "df = df[df.headlemma != '@eng']\n",
    "df = df[df.headlemma != '#']\n",
    "df = df[df.lemma != 'qa']\n",
    "df = df[df.lemma != 'QA']\n",
    "df= df[df.lemma != ' ']\n",
    "df = df[df.lemma != '&']\n",
    "df = df[df.headlemma != '&']\n",
    "df = df[df.lemma != ';']\n",
    "df = df[df.lemma != '[']\n",
    "df = df[df.headlemma != '[']\n",
    "df = df[df.lemma != ']']\n",
    "df = df[df.headlemma != '\"']\n",
    "df['lemma'].replace('  ', np.nan, inplace=True)"
   ]
  },
  {
   "cell_type": "code",
   "execution_count": null,
   "metadata": {},
   "outputs": [],
   "source": [
    "#remove rows with less than 5 appearances\n",
    "dfgroup = df.groupby(df.columns.tolist()).size().reset_index().\\\n",
    "    rename(columns={0:'records'})\n",
    "dfgroupie = dfgroup[dfgroup['records'] > 5] \n",
    "cols = ['lemma', 'headlemma', 'dep']\n",
    "dfgroupie['combined'] = dfgroupie[cols].apply(lambda row: '_'.join(row.values.astype(str)), axis=1)\n",
    "del dfgroupie['lemma']\n",
    "del dfgroupie['headlemma']\n",
    "del dfgroupie['dep']\n",
    "dfgroupN03 = dfgroupie[dfgroupie['records'] > 5] "
   ]
  },
  {
   "cell_type": "code",
   "execution_count": null,
   "metadata": {},
   "outputs": [],
   "source": [
    "#merge results together\n",
    "result = pd.merge(result, dfgroupN03, on='combined', how = 'outer').fillna(0)"
   ]
  }
 ],
 "metadata": {
  "kernelspec": {
   "display_name": "Python 3",
   "language": "python",
   "name": "python3"
  },
  "language_info": {
   "codemirror_mode": {
    "name": "ipython",
    "version": 3
   },
   "file_extension": ".py",
   "mimetype": "text/x-python",
   "name": "python",
   "nbconvert_exporter": "python",
   "pygments_lexer": "ipython3",
   "version": "3.7.6"
  }
 },
 "nbformat": 4,
 "nbformat_minor": 4
}
